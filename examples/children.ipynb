{
 "cells": [
  {
   "cell_type": "code",
   "execution_count": null,
   "id": "a828d6c2",
   "metadata": {},
   "outputs": [],
   "source": [
    "import ipyreact\n",
    "import ipywidgets as widgets\n",
    "\n",
    "ipyreact.Widget(_type=\"div\", children=[\n",
    "    \"normal text\",\n",
    "    ipyreact.Widget(_type=\"button\", children=[\"nested react widgets\"]),\n",
    "    widgets.FloatSlider(description=\"regular ipywidgets\")\n",
    "])"
   ]
  },
  {
   "cell_type": "code",
   "execution_count": null,
   "id": "6b9e745b",
   "metadata": {},
   "outputs": [],
   "source": []
  }
 ],
 "metadata": {
  "kernelspec": {
   "display_name": "Python 3 (ipykernel)",
   "language": "python",
   "name": "python3"
  },
  "language_info": {
   "codemirror_mode": {
    "name": "ipython",
    "version": 3
   },
   "file_extension": ".py",
   "mimetype": "text/x-python",
   "name": "python",
   "nbconvert_exporter": "python",
   "pygments_lexer": "ipython3",
   "version": "3.9.16"
  }
 },
 "nbformat": 4,
 "nbformat_minor": 5
}
