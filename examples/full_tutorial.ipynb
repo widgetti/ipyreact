{
 "cells": [
  {
   "attachments": {},
   "cell_type": "markdown",
   "id": "d8ec9a76-0819-463d-8955-55789ee36400",
   "metadata": {},
   "source": [
    "# Ipyreact walkthrough"
   ]
  },
  {
   "attachments": {},
   "cell_type": "markdown",
   "id": "083f2dc7-c0ec-482f-a720-aa2896ad193e",
   "metadata": {
    "tags": []
   },
   "source": [
    "Welcome to this ipyreact walkthrough!   \n",
    "The tutorial will be based on a very simple react button to show all the ipyreact features.  \n",
    "\n",
    "**Content** \n",
    "* use the %react cell magic\n",
    "* write a widget\n",
    "* load CSS for your widget\n",
    "* add parameters to your widgets (traitlets)\n",
    "* interact with these parameters\n",
    "* observe a python function\n",
    "* observe a javascript function\n",
    "* enable autocompletion in IDEs\n",
    "* print a message at class initialization"
   ]
  },
  {
   "cell_type": "markdown",
   "id": "06cb067d-0aea-4851-827d-d07f22466693",
   "metadata": {},
   "source": [
    "First, we will use the **`%react` magic**  from ipyreact.  \n",
    "The following line registers the cellmagic:"
   ]
  },
  {
   "cell_type": "code",
   "execution_count": null,
   "id": "de17b188",
   "metadata": {},
   "outputs": [],
   "source": [
    "#%pip install ipyreact\n",
    "# This line is for JupyterLite (in case that this takes long, restart the kernel and run this cell again)"
   ]
  },
  {
   "cell_type": "code",
   "execution_count": null,
   "id": "8d85f911",
   "metadata": {},
   "outputs": [],
   "source": [
    "%load_ext ipyreact"
   ]
  },
  {
   "cell_type": "code",
   "execution_count": null,
   "id": "c70f7253-98d5-4131-bf6b-1ac3433e2985",
   "metadata": {
    "tags": []
   },
   "outputs": [],
   "source": [
    "%%react\n",
    "\n",
    "import * as React from \"react\";\n",
    "\n",
    "export default function MyButton() {\n",
    "    return ( < button > X < /button>);\n",
    "    }"
   ]
  },
  {
   "attachments": {},
   "cell_type": "markdown",
   "id": "4b51d34f-8abc-4b7b-936e-6d582a1b64fe",
   "metadata": {},
   "source": [
    "This works like a charm!  \n",
    "Next, we **convert this into a widget.**  \n",
    "For that, we need the code in a _ems string inside a class that inherits from `ipyreact.ReactWidget`"
   ]
  },
  {
   "cell_type": "code",
   "execution_count": null,
   "id": "7c70385c-638e-482b-80e1-6f27614da867",
   "metadata": {
    "tags": []
   },
   "outputs": [],
   "source": [
    "import ipyreact\n",
    "\n",
    "class MyExampleWidget(ipyreact.ReactWidget):\n",
    "    _esm = \"\"\"\n",
    "    import * as React from \"react\";\n",
    "\n",
    "    export default function MyButton() {\n",
    "        return < button > X < /button> \n",
    "    };\"\"\"\n",
    "\n",
    "MyExampleWidget()"
   ]
  },
  {
   "cell_type": "markdown",
   "id": "35f22aef-50c2-4772-b9fa-44f5fb486ee6",
   "metadata": {},
   "source": [
    "now it's time to make some **styling using CSS**"
   ]
  },
  {
   "cell_type": "code",
   "execution_count": null,
   "id": "38e8afeb-274c-4c62-99a7-6200fc9c179d",
   "metadata": {
    "tags": []
   },
   "outputs": [],
   "source": [
    "from IPython.display import HTML\n",
    "css_rules = \"\"\"\n",
    "button {\n",
    "    background-color: yellow;\n",
    "    border-radius: 10px;\n",
    "}\n",
    "\"\"\"\n",
    "HTML(\"<style>\" + css_rules + \"</style>\")"
   ]
  },
  {
   "cell_type": "markdown",
   "id": "cb19480f-b3c6-44be-968c-06edf944d42f",
   "metadata": {},
   "source": [
    "You can also load CSS from a file.  \n",
    "And you can add extra CSS without overwriting the previous CSS import."
   ]
  },
  {
   "cell_type": "code",
   "execution_count": null,
   "id": "c4a644e0-1dbe-4f50-9bb5-5a54f1fedbaf",
   "metadata": {
    "tags": []
   },
   "outputs": [],
   "source": [
    "from IPython.display import HTML\n",
    "from pathlib import Path\n",
    "css_rules = Path(\"styles_orange.css\").read_text()\n",
    "HTML(\"<style>\" + css_rules + \"</style>\")"
   ]
  },
  {
   "cell_type": "markdown",
   "id": "f571eadd-1a94-4ffe-af43-1c5ef1ec2498",
   "metadata": {
    "tags": []
   },
   "source": [
    "Note: When you clear the output of the previous cell, this CSS style will be removed from the notebook."
   ]
  },
  {
   "attachments": {},
   "cell_type": "markdown",
   "id": "b50fbd27-5679-48ea-b2cc-ff9c5c79f826",
   "metadata": {
    "tags": []
   },
   "source": [
    "Next, we want to **add parameters to the widget.**  \n",
    "First naive approach: Using f-strings.\n",
    "That works, but is bad for two reasons:\n",
    "1. curly brackets from f-strings will collide with the curly brackets from css. \n",
    "Using curly brackets in an f-string as a normal character can be done by doubling them like this : `{`to `{{`.\n",
    "2. It is not possible to pass this parameter into the `MyExampleWidget` class, as it does not have an init function.\n",
    "TODO: give a reason why there is no normal init function."
   ]
  },
  {
   "cell_type": "code",
   "execution_count": null,
   "id": "6fdda6ec-d6df-42bb-964c-66b686596ff2",
   "metadata": {
    "tags": []
   },
   "outputs": [],
   "source": [
    "import ipyreact\n",
    "\n",
    "# ❌❌❌  WARNING: THIS CODEBLOCK IS NOT GOOD PRACTICE ❌❌❌ \n",
    "class MyExampleWidget(ipyreact.ReactWidget):\n",
    "    my_message = \"Hello World\"\n",
    "    _esm = f\"\"\"\n",
    "    import * as React from \"react\";\n",
    "\n",
    "    export default function MyButton() {{\n",
    "        return <button> {my_message} </button> \n",
    "        }};\"\"\"\n",
    "MyExampleWidget()"
   ]
  },
  {
   "cell_type": "markdown",
   "id": "944363e3-92b1-4ee6-8e16-1a2f6879fefb",
   "metadata": {},
   "source": [
    "Instead, we can **use traitlets.**  \n",
    "traitlets are variables that can be used both in JavaScript and python.  \n",
    "Note that it has to be initilized at `MyButton({my_message})`."
   ]
  },
  {
   "cell_type": "code",
   "execution_count": null,
   "id": "0e27dc18-82f2-4598-9117-9e0cfec49f99",
   "metadata": {
    "tags": []
   },
   "outputs": [],
   "source": [
    "import ipyreact\n",
    "from traitlets import Unicode\n",
    "\n",
    "# ⭐⭐⭐  This is good practice again ⭐⭐⭐\n",
    "class MyExampleWidget(ipyreact.ReactWidget):\n",
    "    my_message = Unicode(\"Hi There\").tag(sync=True)\n",
    "    _esm = \"\"\"\n",
    "    import * as React from \"react\";\n",
    "\n",
    "    export default function MyButton({ my_message }) {\n",
    "    return <button> {my_message} </button>;\n",
    "    };\"\"\"\n",
    "MyExampleWidget()"
   ]
  },
  {
   "cell_type": "code",
   "execution_count": null,
   "id": "e2fb6dcb-4477-4ff5-a7d0-5e0f209d83cf",
   "metadata": {
    "tags": []
   },
   "outputs": [],
   "source": [
    "# we can use this traitlets also as parameters\n",
    "MyExampleWidget(my_message = \"Super Button\")"
   ]
  },
  {
   "cell_type": "markdown",
   "id": "12f3691c-6d99-40ac-b80d-1db9b6f5d78c",
   "metadata": {},
   "source": [
    "Now comes an example of a button that changes the postion using traitlets"
   ]
  },
  {
   "cell_type": "code",
   "execution_count": null,
   "id": "56c9e4d7-03fc-4a30-81f8-83d63bab170a",
   "metadata": {
    "tags": []
   },
   "outputs": [],
   "source": [
    "import ipyreact\n",
    "from traitlets import Int\n",
    "\n",
    "class MyExampleWidget(ipyreact.ReactWidget):\n",
    "    my_width = Int(23).tag(sync=True)\n",
    "    _esm = \"\"\"\n",
    "    import * as React from \"react\";\n",
    "\n",
    "    export default function MyButton({ my_width }) {\n",
    "      return (\n",
    "        <button\n",
    "          style={{\n",
    "            position: \"relative\",\n",
    "            width: my_width,\n",
    "            height: 30,\n",
    "          }}\n",
    "        >\n",
    "          {\" \"}\n",
    "          Width of {my_width} px{\" \"}\n",
    "        </button>\n",
    "      );\n",
    "    }\"\"\"\n",
    "MyExampleWidget(my_width=300)"
   ]
  },
  {
   "cell_type": "code",
   "execution_count": null,
   "id": "4dba603f-8052-4d8d-845d-d28029e17c35",
   "metadata": {
    "tags": []
   },
   "outputs": [],
   "source": [
    "MyExampleWidget(my_width=600)\n",
    "#MyExampleWidget(my_width=\"Hello\") # <- this will throw an error, as my_width expects an integer"
   ]
  },
  {
   "cell_type": "code",
   "execution_count": null,
   "id": "93f2c43e-5a25-4787-a7a4-11f71a7ddbd1",
   "metadata": {
    "tags": []
   },
   "outputs": [],
   "source": [
    "# you can also create an instance of a class\n",
    "w = MyExampleWidget(my_width=600)\n",
    "w"
   ]
  },
  {
   "cell_type": "code",
   "execution_count": null,
   "id": "10d5d10c-2254-4be3-ac2b-66b851120b03",
   "metadata": {
    "tags": []
   },
   "outputs": [],
   "source": [
    "# and display this instance multiple times\n",
    "w"
   ]
  },
  {
   "cell_type": "code",
   "execution_count": null,
   "id": "dc012a29-d639-48bd-b18f-21d687063e0d",
   "metadata": {
    "tags": []
   },
   "outputs": [],
   "source": [
    "w.my_width = 400 # see how this will change the button width"
   ]
  },
  {
   "cell_type": "code",
   "execution_count": null,
   "id": "9dcc8417-b470-4981-aa77-4382e81882af",
   "metadata": {
    "tags": []
   },
   "outputs": [],
   "source": [
    "w.my_width = 200 # and one more time"
   ]
  },
  {
   "cell_type": "code",
   "execution_count": null,
   "id": "8c2956f1",
   "metadata": {},
   "outputs": [],
   "source": [
    "w.my_width # and get current parameter like this"
   ]
  },
  {
   "cell_type": "markdown",
   "id": "1463b79a",
   "metadata": {},
   "source": [
    "Next, we will **add a counter** to this widget.\n",
    "\n",
    "There are two options:\n",
    "🌱 Firstly, we can define a `my_count` traitlet and for the type we choose an Int traitlet.  \n",
    "Note that for for every trait <name> there is a `<name> + on_<name>` pair on the react/frontend side.  \n",
    "That means for `my_count`, there is `on_my_count`.  \n"
   ]
  },
  {
   "cell_type": "code",
   "execution_count": null,
   "id": "ea94bfd4",
   "metadata": {},
   "outputs": [],
   "source": [
    "import ipyreact\n",
    "from traitlets import Int\n",
    "\n",
    "# 🌱🌱🌱 First option 🌱🌱🌱\n",
    "\n",
    "\n",
    "class MyCounterWidget(ipyreact.ReactWidget):\n",
    "    my_count = Int(0).tag(sync=True)\n",
    "    _esm = \"\"\"\n",
    "    import * as React from \"react\";\n",
    "\n",
    "    export default function MyButton({my_count, on_my_count}) {\n",
    "        return <button onClick={() => on_my_count(my_count + 1)}>\n",
    "            {my_count} times clicked\n",
    "        </button>\n",
    "    };\"\"\"\n",
    "MyCounterWidget()"
   ]
  },
  {
   "cell_type": "markdown",
   "id": "c155a93a",
   "metadata": {},
   "source": [
    "🍁 Secondly, we can use the build in `value` traitlet, which has the type of traitlets.Any type.\n",
    "And for `value` there is `on_value`.  \n"
   ]
  },
  {
   "cell_type": "code",
   "execution_count": null,
   "id": "cf3566b7",
   "metadata": {},
   "outputs": [],
   "source": [
    "import ipyreact\n",
    "\n",
    "# 🍁🍁🍁  Second option 🍁🍁🍁\n",
    "\n",
    "\n",
    "class MyCounterWidget(ipyreact.ReactWidget):\n",
    "    _esm = \"\"\"\n",
    "    import * as React from \"react\";\n",
    "\n",
    "    export default function MyButton({value, on_value}) {\n",
    "        return <button onClick={() => on_value(value + 1)}>\n",
    "            {value || 0} times clicked\n",
    "        </button>\n",
    "    };\"\"\"\n",
    "m = MyCounterWidget()\n",
    "m"
   ]
  },
  {
   "cell_type": "code",
   "execution_count": null,
   "id": "5d45c672",
   "metadata": {},
   "outputs": [],
   "source": [
    "m.value # <- like this you can access the value from python"
   ]
  },
  {
   "cell_type": "code",
   "execution_count": null,
   "id": "1827bb2b",
   "metadata": {},
   "outputs": [],
   "source": [
    "m.value = 20 # <- setting the value also works here."
   ]
  },
  {
   "attachments": {},
   "cell_type": "markdown",
   "id": "41e3e447",
   "metadata": {},
   "source": [
    "next, let's **observe a python function** that is called everytime the trailtel value changes.  \n",
    "In this case it determines if the number is a prime number or not:"
   ]
  },
  {
   "cell_type": "code",
   "execution_count": null,
   "id": "5e9fe204",
   "metadata": {},
   "outputs": [],
   "source": [
    "def is_prime_number(n):\n",
    "    for i in range(2, n):\n",
    "        if n % i == 0:\n",
    "            return \"No 🧊🧊🧊\"\n",
    "    return \"Yes ✅✅✅\""
   ]
  },
  {
   "cell_type": "code",
   "execution_count": null,
   "id": "e1aa7160",
   "metadata": {},
   "outputs": [],
   "source": [
    "is_prime_number(8)"
   ]
  },
  {
   "cell_type": "code",
   "execution_count": null,
   "id": "e1b5af36",
   "metadata": {},
   "outputs": [],
   "source": [
    "from traitlets import  Any, observe\n",
    "\n",
    "class OtherCountWidget(ipyreact.ReactWidget):\n",
    "    prime_message = Any(\"Click the Button\").tag(sync=True)    \n",
    "    count = Int(0).tag(sync=True)\n",
    "\n",
    "    @observe('count')\n",
    "    def _observe_count(self, change):\n",
    "        self.prime_message = is_prime_number(self.count)\n",
    "    \n",
    "    _esm = \"\"\"\n",
    "    import * as React from \"react\";\n",
    "\n",
    "    export default function({on_count, debug, count, prime_message}) {\n",
    "        return <div><button onClick={() => on_count(count + 1)}>\n",
    "            {count} times clicked \n",
    "        </button>\n",
    "        <br/>\n",
    "        <span> {prime_message} </span>\n",
    "        </div>\n",
    "    };\"\"\"\n",
    "ocw = OtherCountWidget()\n",
    "ocw"
   ]
  },
  {
   "cell_type": "code",
   "execution_count": null,
   "id": "7eeee228",
   "metadata": {},
   "outputs": [],
   "source": []
  },
  {
   "cell_type": "markdown",
   "id": "82c9fbe3-6112-4dae-b817-e1a12343b407",
   "metadata": {},
   "source": [
    "one more thing:  \n",
    "Having **autocompletion in IDEs** is awesome!  \n",
    "traitlets don't have that by default, but adding a `signature_has_traits` decorator will do the job!"
   ]
  },
  {
   "cell_type": "code",
   "execution_count": null,
   "id": "89793f7c-1398-4f11-ab75-b73ffacd9b43",
   "metadata": {
    "tags": []
   },
   "outputs": [],
   "source": [
    "import ipyreact\n",
    "from traitlets import Any, Unicode, Int, observe, signature_has_traits\n",
    "\n",
    "@signature_has_traits\n",
    "class MyExampleWidget(ipyreact.ReactWidget):\n",
    "    my_width = Int(23).tag(sync=True)\n",
    "    _esm = \"\"\"\n",
    "    import * as React from \"react\";\n",
    "\n",
    "    export default function MyButton({ my_width }) {\n",
    "      return (\n",
    "        <button\n",
    "          style={{\n",
    "            position: \"relative\",\n",
    "            width: my_width,\n",
    "            height: 30,\n",
    "          }}\n",
    "        >\n",
    "          {\" \"}\n",
    "          Width of {my_width} px{\" \"}\n",
    "        </button>\n",
    "      );\n",
    "    }\"\"\"\n",
    "MyExampleWidget(my_width=300)"
   ]
  },
  {
   "attachments": {},
   "cell_type": "markdown",
   "id": "38cfce36",
   "metadata": {},
   "source": [
    "And this screenshots shows that autocompletion works now:  \n",
    "<img src=\"autocomplete_screenshot.png\" width=\"400\">"
   ]
  },
  {
   "attachments": {},
   "cell_type": "markdown",
   "id": "bae77944-e0dd-49c4-bd27-b401d7bbef1b",
   "metadata": {},
   "source": [
    "Now we want to **print a message at class initialization** that says \"Button was initialized with width 300px!\"  \n",
    "That is possible, but not very straight forward, so feel free to skip this example."
   ]
  },
  {
   "cell_type": "code",
   "execution_count": null,
   "id": "124771ca-8271-4b5e-9f5d-ee792442665b",
   "metadata": {
    "tags": []
   },
   "outputs": [],
   "source": [
    "import ipyreact\n",
    "from traitlets import Int, signature_has_traits\n",
    "\n",
    "# 🪄🪄🪄 this is an advanced example, feel free to skip 🪄🪄🪄\n",
    "\n",
    "@signature_has_traits\n",
    "class MyExampleWidget(ipyreact.ReactWidget):\n",
    "    def __init__(self, **kwargs):\n",
    "        super().__init__(**kwargs)\n",
    "        self.print_welcome_message()\n",
    "\n",
    "    def print_welcome_message(self):\n",
    "        print(f\"Button was initilized with width of {self.my_width}px \")\n",
    "\n",
    "    my_width = Int(23).tag(sync=True)\n",
    "\n",
    "    _esm = \"\"\"\n",
    "    import * as React from \"react\";\n",
    "\n",
    "    export default function MyButton({ my_width }) {\n",
    "    return (\n",
    "        <button\n",
    "        style={{\n",
    "            position: \"relative\",\n",
    "            width: my_width,\n",
    "            height: 30,\n",
    "        }}\n",
    "        >\n",
    "        {\" \"}\n",
    "        Width of {my_width} px{\" \"}\n",
    "        </button>\n",
    "    );\n",
    "    }\"\"\"\n",
    "\n",
    "MyExampleWidget(my_width=200)"
   ]
  }
 ],
 "metadata": {
  "kernelspec": {
   "display_name": "Python 3 (ipykernel)",
   "language": "python",
   "name": "python3"
  },
  "language_info": {
   "codemirror_mode": {
    "name": "ipython",
    "version": 3
   },
   "file_extension": ".py",
   "mimetype": "text/x-python",
   "name": "python",
   "nbconvert_exporter": "python",
   "pygments_lexer": "ipython3",
   "version": "3.11.3"
  }
 },
 "nbformat": 4,
 "nbformat_minor": 5
}
