{
 "cells": [
  {
   "cell_type": "code",
   "execution_count": null,
   "id": "aba8b4d5-199f-4fe0-97a2-5a2a3f43cbf2",
   "metadata": {},
   "outputs": [],
   "source": [
    "import ipyreact\n",
    "from traitlets import Int, observe, Unicode"
   ]
  },
  {
   "cell_type": "code",
   "execution_count": null,
   "id": "b11af66b-f256-4441-8c38-0283866024bd",
   "metadata": {},
   "outputs": [],
   "source": [
    "def check_is_even(number):\n",
    "    if number %2 == 0:\n",
    "        return True\n",
    "    else:\n",
    "        return False\n",
    "\n",
    "\n",
    "class EvenOddWidget(ipyreact.ReactWidget):\n",
    "    #note that when we add these traitlets, they will automatically be made available to the react component\n",
    "    message = Unicode(\"Click the button!\").tag(sync=True)\n",
    "    \n",
    "    count = Int(0).tag(sync=True)\n",
    "\n",
    "    #it is key that we also take the change argument, otherwise a hard to find python error will be thrown\n",
    "    @observe('count')\n",
    "    def _observe_count(self, change):\n",
    "        self.message = \"Yes ✅✅✅\" if check_is_even(self.count) else \"No 🧊🧊🧊\"\n",
    "\n",
    "    _esm = \"\"\"\n",
    "    import confetti from \"canvas-confetti\";\n",
    "    import * as React from \"react\";\n",
    "\n",
    "    export default function({setCount, count, message}) {\n",
    "        return <div><button onClick={() => confetti() && setCount(count + 1)}>\n",
    "            {count} times confetti\n",
    "        </button>\n",
    "        <br/>\n",
    "        <span> Is number even? {message} </span>\n",
    "        </div>\n",
    "    };\"\"\"\n",
    "w = EvenOddWidget()\n",
    "w"
   ]
  },
  {
   "cell_type": "code",
   "execution_count": null,
   "id": "d52fbf41",
   "metadata": {},
   "outputs": [],
   "source": []
  }
 ],
 "metadata": {
  "kernelspec": {
   "display_name": "Python 3 (ipykernel)",
   "language": "python",
   "name": "python3"
  },
  "language_info": {
   "codemirror_mode": {
    "name": "ipython",
    "version": 3
   },
   "file_extension": ".py",
   "mimetype": "text/x-python",
   "name": "python",
   "nbconvert_exporter": "python",
   "pygments_lexer": "ipython3",
   "version": "3.9.16"
  }
 },
 "nbformat": 4,
 "nbformat_minor": 5
}
