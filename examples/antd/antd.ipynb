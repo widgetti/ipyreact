{
 "cells": [
  {
   "cell_type": "markdown",
   "id": "a01f370f",
   "metadata": {},
   "source": [
    "## Bundled ES modules\n",
    "\n",
    "While esm.sh is convenient to use, for production use, we recommend creating a standalone bundle. This will load faster and will not require a direct connection to esm.sh, which might not be available in airgapped or firewalled environments.\n",
    "\n",
    "We will not create a minimal bundle for https://ant.design/\n",
    "\n",
    "First create a simple file called `antd-minimal.js` that exports what we need.\n",
    "\n",
    "```javascript\n",
    "export {Button, Flex, Slider} from 'antd';\n",
    "```\n",
    "\n",
    "Next, we install the libraries:\n",
    "\n",
    "```bash\n",
    "$ npm install antd\n",
    "```\n",
    "\n",
    "And use ESBuild to turn this into a self-contained module/bundle, without react, since ipyreact provides that for us.\n",
    "\n",
    "```\n",
    "$ npx esbuild ./antd-minimal.js --bundle --outfile=./antd-minimal.esm.js --format=esm --external:react --external:react-dom --target=esnext\n",
    "```\n",
    "\n",
    "\n",
    "Now we can define the module with a custom name (we call it antd-minimal)."
   ]
  },
  {
   "cell_type": "code",
   "execution_count": null,
   "id": "80b55518",
   "metadata": {},
   "outputs": [],
   "source": [
    "import ipyreact\n",
    "from pathlib import Path\n",
    "\n",
    "ipyreact.define_module(\"antd-minimal\", Path(\"./antd-minimal.esm.js\"))"
   ]
  },
  {
   "cell_type": "code",
   "execution_count": null,
   "id": "fe4844cf",
   "metadata": {},
   "outputs": [],
   "source": [
    "def on_click(event_data):\n",
    "    w.children = [\"Clicked\"]\n",
    "\n",
    "w = ipyreact.Widget(_module=\"antd-minimal\", _type=\"Button\", children=[\"Hi there\"], events={\"onClick\": on_click})\n",
    "w"
   ]
  },
  {
   "cell_type": "code",
   "execution_count": null,
   "id": "22570a65",
   "metadata": {},
   "outputs": [],
   "source": [
    "stack = ipyreact.Widget(_module=\"antd-minimal\", _type=\"Flex\",\n",
    "    props={\"vertical\": True, \"style\": {\"padding\": \"24px\"}},\n",
    "    children=[\n",
    "        ipyreact.Widget(_module=\"antd-minimal\", _type=\"Button\", children=[\"Ant Design Button\"]),\n",
    "        ipyreact.Widget(_module=\"antd-minimal\", _type=\"Slider\",\n",
    "                       props={\"defaultValue\": 3, \"min\": 0, \"max\": 11}),\n",
    "])\n",
    "stack"
   ]
  },
  {
   "cell_type": "markdown",
   "id": "4d87b64e",
   "metadata": {},
   "source": [
    "Input components might need a little bit of custom code, and subclassing `ValueWidget`. It often means binding the value to the right prop of the input component (in this case the Slider takes the same name, `value`) and coupling the event handler (in this case `onChange`) to the `setValue` function."
   ]
  },
  {
   "cell_type": "code",
   "execution_count": null,
   "id": "559b5234",
   "metadata": {},
   "outputs": [],
   "source": [
    "import traitlets\n",
    "\n",
    "\n",
    "class Slider(ipyreact.ValueWidget):\n",
    "    _esm = \"\"\"\n",
    "    \n",
    "    import {Slider} from \"antd-minimal\"\n",
    "    \n",
    "    export default ({value, setValue, ...rest}) => {\n",
    "        return <Slider value={value} onChange={(v) => setValue(v)} {...rest}/>\n",
    "    }\n",
    "    \n",
    "    \"\"\"\n",
    "s = Slider(value=2)\n",
    "s"
   ]
  },
  {
   "cell_type": "markdown",
   "id": "0fc7b9a4",
   "metadata": {},
   "source": [
    "*Note that it depends on the implementation of the event handler if the value is being passed directly, or a (synthetic) event with the data will be passed as argument. An typical example event handler could be `onChange={(event) => setValue(event.target.value)}`.*\n",
    "\n",
    "Now the slider widget is stateful, and we have bi-directional communication using the `.value` trait.\n",
    "For instance, we can read it:"
   ]
  },
  {
   "cell_type": "code",
   "execution_count": null,
   "id": "2c77a4b4",
   "metadata": {},
   "outputs": [],
   "source": [
    "s.value"
   ]
  },
  {
   "cell_type": "markdown",
   "id": "6d2642e1",
   "metadata": {},
   "source": [
    "Or write to it, and it will be reflected directly in the UI."
   ]
  },
  {
   "cell_type": "code",
   "execution_count": null,
   "id": "83b2686f",
   "metadata": {},
   "outputs": [],
   "source": [
    "s.value = 10"
   ]
  },
  {
   "cell_type": "code",
   "execution_count": null,
   "id": "c09ae51b",
   "metadata": {},
   "outputs": [],
   "source": []
  }
 ],
 "metadata": {
  "kernelspec": {
   "display_name": "Python 3 (ipykernel)",
   "language": "python",
   "name": "python3"
  },
  "language_info": {
   "codemirror_mode": {
    "name": "ipython",
    "version": 3
   },
   "file_extension": ".py",
   "mimetype": "text/x-python",
   "name": "python",
   "nbconvert_exporter": "python",
   "pygments_lexer": "ipython3",
   "version": "3.9.16"
  }
 },
 "nbformat": 4,
 "nbformat_minor": 5
}
