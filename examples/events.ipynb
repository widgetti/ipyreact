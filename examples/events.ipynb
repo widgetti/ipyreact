{
 "cells": [
  {
   "cell_type": "code",
   "execution_count": null,
   "id": "83522980",
   "metadata": {},
   "outputs": [],
   "source": [
    "import ipyreact\n",
    "import traitlets\n",
    "\n",
    "class ButtonWithHandler(ipyreact.ReactWidget):\n",
    "    # extra trait\n",
    "    label = traitlets.Unicode(\"Click me\").tag(sync=True)\n",
    "    _esm = \"\"\"\n",
    "        import * as React from \"react\";\n",
    "\n",
    "        export default function({on_click, on_pass_data, label}) {\n",
    "            // make sure the arguments passed matches the\n",
    "            // python function\n",
    "            return \\\n",
    "            <div>\n",
    "                <button onClick={() => on_click()}>\n",
    "                    {label}\n",
    "                </button>\n",
    "                <button onClick={(event) => on_pass_data({label: label, x: event.clientX, y: event.clientY})}>\n",
    "                    Pass data\n",
    "                </button>\n",
    "            </div>\n",
    "        };\n",
    "    \"\"\"\n",
    "    \n",
    "    # all on_* methods are automatically available from the frontend\n",
    "    # with the same name as a prop\n",
    "    def on_click(self):\n",
    "        self.label = \"Clicked\"\n",
    "\n",
    "    # an optional argument can be passed\n",
    "    # an optional third argument can contain buffers (not used here)\n",
    "    def on_pass_data(self, data):\n",
    "        print(data)\n",
    "        self.label = f'Clicked \"Pass data\" at {data[\"x\"]},{data[\"y\"]} when label was {data[\"label\"]}'\n",
    "        \n",
    "b = ButtonWithHandler()\n",
    "b"
   ]
  }
 ],
 "metadata": {
  "dca-init": true,
  "kernelspec": {
   "display_name": "Python 3 (ipykernel)",
   "language": "python",
   "name": "python3"
  },
  "language_info": {
   "codemirror_mode": {
    "name": "ipython",
    "version": 3
   },
   "file_extension": ".py",
   "mimetype": "text/x-python",
   "name": "python",
   "nbconvert_exporter": "python",
   "pygments_lexer": "ipython3",
   "version": "3.9.16"
  }
 },
 "nbformat": 4,
 "nbformat_minor": 5
}
